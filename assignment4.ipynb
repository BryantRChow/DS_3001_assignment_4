{
  "cells": [
    {
      "cell_type": "markdown",
      "id": "e0c7b14a-e5aa-4abc-b48b-b8a9d20dacac",
      "metadata": {
        "id": "e0c7b14a-e5aa-4abc-b48b-b8a9d20dacac"
      },
      "source": [
        "# Assignment #4: Linear Models and Decision Trees\n",
        "## Foundations of Machine Learning\n",
        "## Do Q1 and one other question.\n",
        "### Advice: Reuse your code and code from lectures, package routine tasks into functions, make plans about how you'll carry out the analysis before jumping into writing code, and work as efficiently as possible"
      ]
    },
    {
      "cell_type": "markdown",
      "id": "95f22300-0180-4ed2-be8f-ed56cf4cd36b",
      "metadata": {
        "id": "95f22300-0180-4ed2-be8f-ed56cf4cd36b"
      },
      "source": [
        "**Q1.** This question is a case study for linear models and decision trees. The data are about car prices. In particular, they include:\n",
        "\n",
        "  - `Price`, `Color`, `Seating_Capacity`\n",
        "  - `Body_Type`: crossover, hatchback, muv, sedan, suv\n",
        "  - `Make`, `Make_Year`: The brand of car and year produced\n",
        "  - `Mileage_Run`: The number of miles on the odometer\n",
        "  - `Fuel_Type`: Diesel or gasoline/petrol\n",
        "  - `Transmission`, `Transmission_Type`:  speeds and automatic/manual\n",
        "\n",
        "  1. Load `cars_hw.csv`. These data were really dirty, and I've already cleaned them a significant amount in terms of missing values and other issues, but some issues remain (e.g. outliers, badly scaled variables that require a log or arcsinh transformation). Clean the data however you think is most appropriate.\n",
        "  2. Summarize the `Price` variable and create a kernel density plot. Use `.groupby()` and `.describe()` to summarize prices by brand (`Make`). Make a grouped kernel density plot by `Make`. Which car brands are the most expensive? What do prices look like in general?\n",
        "  3. Split the data into an 80% training set and a 20% testing set.\n",
        "  4. Let's focus on linear models. Make a model where you regress price on the numeric variables alone; what is the $R^2$ and `RMSE` on the test set? Make a second model where, for the categorical variables, make a model comprised of one-hot encoded regressors/features alone, and regress price on those variables; what is the $R^2$ and `RMSE` on the test set? Which model performs better on the test set? Make a third model that combines all the regressors from the previous two; what is the $R^2$ and `RMSE` on the test set? Does the joint model perform better or worse, and by home much?\n",
        "  5. Use the `PolynomialFeatures` function from `sklearn` to expand the set of numerical variables you're using, along with the categorical variables. As you increase the degree of the expansion, how do the $R^2$ and `RMSE` change? At what point does $R^2$ go negative on the test set? For your best model with expanded features, what is the $R^2$ and `RMSE`? How does it compare to your best model from part 3?\n",
        "  6. For your best model so far, determine the predicted values for the test data and plot them against the true values. Do the predicted values and true values roughly line up along the diagonal, or not? Compute the residuals/errors for the test data and create a kernel density plot. Do the residuals look roughly bell-shaped around zero? Evaluate the strengths and weaknesses of your model.\n",
        "  7. Now, let's use a regression tree. Construct an appropriate matrix of regressors/features, and fit a tree to the data. Vary the maximum depth of the decision tree using the `max_depth` option (i.e. `tree.DecisionTreeRegressor(max_depth=D)`), and compute the $R^2$ and `RMSE` on the test set of a variety of depths. What depth tree gives the best results?\n",
        "  8. For your best tree, determine the predicted values for the test data, and plot them against the true values. Do the predicted values and true values line up along the diagonal, or not? Compute the residuals/errors for the test data and create a kernel density plot. Do the residuals look roughly bell-shaped around zero?\n",
        "  12. Which model --- linear model or classification and regression tree --- has better performance on the test set?"
      ]
    },
    {
      "cell_type": "code",
      "source": [
        "# 1.1\n",
        "import pandas as pd\n",
        "df = pd.read_csv('./data/cars_hw.csv')\n",
        "df.drop(df.columns[0], axis = 1, inplace = True)\n",
        "df.head()"
      ],
      "metadata": {
        "id": "1S58T7dFAw9J",
        "outputId": "bb080fd1-b6d3-468b-8675-1a0771434046",
        "colab": {
          "base_uri": "https://localhost:8080/",
          "height": 226
        }
      },
      "id": "1S58T7dFAw9J",
      "execution_count": 85,
      "outputs": [
        {
          "output_type": "execute_result",
          "data": {
            "text/plain": [
              "         Make  Make_Year   Color  Body_Type  Mileage_Run No_of_Owners  \\\n",
              "0  Volkswagen       2017  silver      sedan        44611          1st   \n",
              "1     Hyundai       2016     red  crossover        20305          1st   \n",
              "2       Honda       2019   white        suv        29540          2nd   \n",
              "3     Renault       2017  bronze  hatchback        35680          1st   \n",
              "4     Hyundai       2017  orange  hatchback        25126          1st   \n",
              "\n",
              "   Seating_Capacity Fuel_Type Transmission Transmission_Type   Price  \n",
              "0                 5    diesel      7-Speed         Automatic  657000  \n",
              "1                 5    petrol      5-Speed            Manual  682000  \n",
              "2                 5    petrol      5-Speed            Manual  793000  \n",
              "3                 5    petrol      5-Speed            Manual  414000  \n",
              "4                 5    petrol      5-Speed            Manual  515000  "
            ],
            "text/html": [
              "\n",
              "  <div id=\"df-4780fd66-0c07-4992-b36e-d51c74146841\" class=\"colab-df-container\">\n",
              "    <div>\n",
              "<style scoped>\n",
              "    .dataframe tbody tr th:only-of-type {\n",
              "        vertical-align: middle;\n",
              "    }\n",
              "\n",
              "    .dataframe tbody tr th {\n",
              "        vertical-align: top;\n",
              "    }\n",
              "\n",
              "    .dataframe thead th {\n",
              "        text-align: right;\n",
              "    }\n",
              "</style>\n",
              "<table border=\"1\" class=\"dataframe\">\n",
              "  <thead>\n",
              "    <tr style=\"text-align: right;\">\n",
              "      <th></th>\n",
              "      <th>Make</th>\n",
              "      <th>Make_Year</th>\n",
              "      <th>Color</th>\n",
              "      <th>Body_Type</th>\n",
              "      <th>Mileage_Run</th>\n",
              "      <th>No_of_Owners</th>\n",
              "      <th>Seating_Capacity</th>\n",
              "      <th>Fuel_Type</th>\n",
              "      <th>Transmission</th>\n",
              "      <th>Transmission_Type</th>\n",
              "      <th>Price</th>\n",
              "    </tr>\n",
              "  </thead>\n",
              "  <tbody>\n",
              "    <tr>\n",
              "      <th>0</th>\n",
              "      <td>Volkswagen</td>\n",
              "      <td>2017</td>\n",
              "      <td>silver</td>\n",
              "      <td>sedan</td>\n",
              "      <td>44611</td>\n",
              "      <td>1st</td>\n",
              "      <td>5</td>\n",
              "      <td>diesel</td>\n",
              "      <td>7-Speed</td>\n",
              "      <td>Automatic</td>\n",
              "      <td>657000</td>\n",
              "    </tr>\n",
              "    <tr>\n",
              "      <th>1</th>\n",
              "      <td>Hyundai</td>\n",
              "      <td>2016</td>\n",
              "      <td>red</td>\n",
              "      <td>crossover</td>\n",
              "      <td>20305</td>\n",
              "      <td>1st</td>\n",
              "      <td>5</td>\n",
              "      <td>petrol</td>\n",
              "      <td>5-Speed</td>\n",
              "      <td>Manual</td>\n",
              "      <td>682000</td>\n",
              "    </tr>\n",
              "    <tr>\n",
              "      <th>2</th>\n",
              "      <td>Honda</td>\n",
              "      <td>2019</td>\n",
              "      <td>white</td>\n",
              "      <td>suv</td>\n",
              "      <td>29540</td>\n",
              "      <td>2nd</td>\n",
              "      <td>5</td>\n",
              "      <td>petrol</td>\n",
              "      <td>5-Speed</td>\n",
              "      <td>Manual</td>\n",
              "      <td>793000</td>\n",
              "    </tr>\n",
              "    <tr>\n",
              "      <th>3</th>\n",
              "      <td>Renault</td>\n",
              "      <td>2017</td>\n",
              "      <td>bronze</td>\n",
              "      <td>hatchback</td>\n",
              "      <td>35680</td>\n",
              "      <td>1st</td>\n",
              "      <td>5</td>\n",
              "      <td>petrol</td>\n",
              "      <td>5-Speed</td>\n",
              "      <td>Manual</td>\n",
              "      <td>414000</td>\n",
              "    </tr>\n",
              "    <tr>\n",
              "      <th>4</th>\n",
              "      <td>Hyundai</td>\n",
              "      <td>2017</td>\n",
              "      <td>orange</td>\n",
              "      <td>hatchback</td>\n",
              "      <td>25126</td>\n",
              "      <td>1st</td>\n",
              "      <td>5</td>\n",
              "      <td>petrol</td>\n",
              "      <td>5-Speed</td>\n",
              "      <td>Manual</td>\n",
              "      <td>515000</td>\n",
              "    </tr>\n",
              "  </tbody>\n",
              "</table>\n",
              "</div>\n",
              "    <div class=\"colab-df-buttons\">\n",
              "\n",
              "  <div class=\"colab-df-container\">\n",
              "    <button class=\"colab-df-convert\" onclick=\"convertToInteractive('df-4780fd66-0c07-4992-b36e-d51c74146841')\"\n",
              "            title=\"Convert this dataframe to an interactive table.\"\n",
              "            style=\"display:none;\">\n",
              "\n",
              "  <svg xmlns=\"http://www.w3.org/2000/svg\" height=\"24px\" viewBox=\"0 -960 960 960\">\n",
              "    <path d=\"M120-120v-720h720v720H120Zm60-500h600v-160H180v160Zm220 220h160v-160H400v160Zm0 220h160v-160H400v160ZM180-400h160v-160H180v160Zm440 0h160v-160H620v160ZM180-180h160v-160H180v160Zm440 0h160v-160H620v160Z\"/>\n",
              "  </svg>\n",
              "    </button>\n",
              "\n",
              "  <style>\n",
              "    .colab-df-container {\n",
              "      display:flex;\n",
              "      gap: 12px;\n",
              "    }\n",
              "\n",
              "    .colab-df-convert {\n",
              "      background-color: #E8F0FE;\n",
              "      border: none;\n",
              "      border-radius: 50%;\n",
              "      cursor: pointer;\n",
              "      display: none;\n",
              "      fill: #1967D2;\n",
              "      height: 32px;\n",
              "      padding: 0 0 0 0;\n",
              "      width: 32px;\n",
              "    }\n",
              "\n",
              "    .colab-df-convert:hover {\n",
              "      background-color: #E2EBFA;\n",
              "      box-shadow: 0px 1px 2px rgba(60, 64, 67, 0.3), 0px 1px 3px 1px rgba(60, 64, 67, 0.15);\n",
              "      fill: #174EA6;\n",
              "    }\n",
              "\n",
              "    .colab-df-buttons div {\n",
              "      margin-bottom: 4px;\n",
              "    }\n",
              "\n",
              "    [theme=dark] .colab-df-convert {\n",
              "      background-color: #3B4455;\n",
              "      fill: #D2E3FC;\n",
              "    }\n",
              "\n",
              "    [theme=dark] .colab-df-convert:hover {\n",
              "      background-color: #434B5C;\n",
              "      box-shadow: 0px 1px 3px 1px rgba(0, 0, 0, 0.15);\n",
              "      filter: drop-shadow(0px 1px 2px rgba(0, 0, 0, 0.3));\n",
              "      fill: #FFFFFF;\n",
              "    }\n",
              "  </style>\n",
              "\n",
              "    <script>\n",
              "      const buttonEl =\n",
              "        document.querySelector('#df-4780fd66-0c07-4992-b36e-d51c74146841 button.colab-df-convert');\n",
              "      buttonEl.style.display =\n",
              "        google.colab.kernel.accessAllowed ? 'block' : 'none';\n",
              "\n",
              "      async function convertToInteractive(key) {\n",
              "        const element = document.querySelector('#df-4780fd66-0c07-4992-b36e-d51c74146841');\n",
              "        const dataTable =\n",
              "          await google.colab.kernel.invokeFunction('convertToInteractive',\n",
              "                                                    [key], {});\n",
              "        if (!dataTable) return;\n",
              "\n",
              "        const docLinkHtml = 'Like what you see? Visit the ' +\n",
              "          '<a target=\"_blank\" href=https://colab.research.google.com/notebooks/data_table.ipynb>data table notebook</a>'\n",
              "          + ' to learn more about interactive tables.';\n",
              "        element.innerHTML = '';\n",
              "        dataTable['output_type'] = 'display_data';\n",
              "        await google.colab.output.renderOutput(dataTable, element);\n",
              "        const docLink = document.createElement('div');\n",
              "        docLink.innerHTML = docLinkHtml;\n",
              "        element.appendChild(docLink);\n",
              "      }\n",
              "    </script>\n",
              "  </div>\n",
              "\n",
              "\n",
              "<div id=\"df-33c77895-77e9-4bb0-aea0-3f48bcc9a076\">\n",
              "  <button class=\"colab-df-quickchart\" onclick=\"quickchart('df-33c77895-77e9-4bb0-aea0-3f48bcc9a076')\"\n",
              "            title=\"Suggest charts\"\n",
              "            style=\"display:none;\">\n",
              "\n",
              "<svg xmlns=\"http://www.w3.org/2000/svg\" height=\"24px\"viewBox=\"0 0 24 24\"\n",
              "     width=\"24px\">\n",
              "    <g>\n",
              "        <path d=\"M19 3H5c-1.1 0-2 .9-2 2v14c0 1.1.9 2 2 2h14c1.1 0 2-.9 2-2V5c0-1.1-.9-2-2-2zM9 17H7v-7h2v7zm4 0h-2V7h2v10zm4 0h-2v-4h2v4z\"/>\n",
              "    </g>\n",
              "</svg>\n",
              "  </button>\n",
              "\n",
              "<style>\n",
              "  .colab-df-quickchart {\n",
              "      --bg-color: #E8F0FE;\n",
              "      --fill-color: #1967D2;\n",
              "      --hover-bg-color: #E2EBFA;\n",
              "      --hover-fill-color: #174EA6;\n",
              "      --disabled-fill-color: #AAA;\n",
              "      --disabled-bg-color: #DDD;\n",
              "  }\n",
              "\n",
              "  [theme=dark] .colab-df-quickchart {\n",
              "      --bg-color: #3B4455;\n",
              "      --fill-color: #D2E3FC;\n",
              "      --hover-bg-color: #434B5C;\n",
              "      --hover-fill-color: #FFFFFF;\n",
              "      --disabled-bg-color: #3B4455;\n",
              "      --disabled-fill-color: #666;\n",
              "  }\n",
              "\n",
              "  .colab-df-quickchart {\n",
              "    background-color: var(--bg-color);\n",
              "    border: none;\n",
              "    border-radius: 50%;\n",
              "    cursor: pointer;\n",
              "    display: none;\n",
              "    fill: var(--fill-color);\n",
              "    height: 32px;\n",
              "    padding: 0;\n",
              "    width: 32px;\n",
              "  }\n",
              "\n",
              "  .colab-df-quickchart:hover {\n",
              "    background-color: var(--hover-bg-color);\n",
              "    box-shadow: 0 1px 2px rgba(60, 64, 67, 0.3), 0 1px 3px 1px rgba(60, 64, 67, 0.15);\n",
              "    fill: var(--button-hover-fill-color);\n",
              "  }\n",
              "\n",
              "  .colab-df-quickchart-complete:disabled,\n",
              "  .colab-df-quickchart-complete:disabled:hover {\n",
              "    background-color: var(--disabled-bg-color);\n",
              "    fill: var(--disabled-fill-color);\n",
              "    box-shadow: none;\n",
              "  }\n",
              "\n",
              "  .colab-df-spinner {\n",
              "    border: 2px solid var(--fill-color);\n",
              "    border-color: transparent;\n",
              "    border-bottom-color: var(--fill-color);\n",
              "    animation:\n",
              "      spin 1s steps(1) infinite;\n",
              "  }\n",
              "\n",
              "  @keyframes spin {\n",
              "    0% {\n",
              "      border-color: transparent;\n",
              "      border-bottom-color: var(--fill-color);\n",
              "      border-left-color: var(--fill-color);\n",
              "    }\n",
              "    20% {\n",
              "      border-color: transparent;\n",
              "      border-left-color: var(--fill-color);\n",
              "      border-top-color: var(--fill-color);\n",
              "    }\n",
              "    30% {\n",
              "      border-color: transparent;\n",
              "      border-left-color: var(--fill-color);\n",
              "      border-top-color: var(--fill-color);\n",
              "      border-right-color: var(--fill-color);\n",
              "    }\n",
              "    40% {\n",
              "      border-color: transparent;\n",
              "      border-right-color: var(--fill-color);\n",
              "      border-top-color: var(--fill-color);\n",
              "    }\n",
              "    60% {\n",
              "      border-color: transparent;\n",
              "      border-right-color: var(--fill-color);\n",
              "    }\n",
              "    80% {\n",
              "      border-color: transparent;\n",
              "      border-right-color: var(--fill-color);\n",
              "      border-bottom-color: var(--fill-color);\n",
              "    }\n",
              "    90% {\n",
              "      border-color: transparent;\n",
              "      border-bottom-color: var(--fill-color);\n",
              "    }\n",
              "  }\n",
              "</style>\n",
              "\n",
              "  <script>\n",
              "    async function quickchart(key) {\n",
              "      const quickchartButtonEl =\n",
              "        document.querySelector('#' + key + ' button');\n",
              "      quickchartButtonEl.disabled = true;  // To prevent multiple clicks.\n",
              "      quickchartButtonEl.classList.add('colab-df-spinner');\n",
              "      try {\n",
              "        const charts = await google.colab.kernel.invokeFunction(\n",
              "            'suggestCharts', [key], {});\n",
              "      } catch (error) {\n",
              "        console.error('Error during call to suggestCharts:', error);\n",
              "      }\n",
              "      quickchartButtonEl.classList.remove('colab-df-spinner');\n",
              "      quickchartButtonEl.classList.add('colab-df-quickchart-complete');\n",
              "    }\n",
              "    (() => {\n",
              "      let quickchartButtonEl =\n",
              "        document.querySelector('#df-33c77895-77e9-4bb0-aea0-3f48bcc9a076 button');\n",
              "      quickchartButtonEl.style.display =\n",
              "        google.colab.kernel.accessAllowed ? 'block' : 'none';\n",
              "    })();\n",
              "  </script>\n",
              "</div>\n",
              "    </div>\n",
              "  </div>\n"
            ]
          },
          "metadata": {},
          "execution_count": 85
        }
      ]
    },
    {
      "cell_type": "code",
      "source": [
        "# 1.2\n",
        "df.groupby(['Make'])['Price'].describe()"
      ],
      "metadata": {
        "id": "SPzF4VjFE0l5",
        "outputId": "1174e51a-ad8b-4ea2-b90a-d2cee4d2a0b7",
        "colab": {
          "base_uri": "https://localhost:8080/",
          "height": 582
        }
      },
      "id": "SPzF4VjFE0l5",
      "execution_count": 86,
      "outputs": [
        {
          "output_type": "execute_result",
          "data": {
            "text/plain": [
              "               count          mean           std        min        25%  \\\n",
              "Make                                                                     \n",
              "Chevrolet        6.0  4.535000e+05  2.466064e+05   267000.0   288500.0   \n",
              "Datsun           3.0  2.896667e+05  1.050397e+04   279000.0   284500.0   \n",
              "Ford            52.0  7.211731e+05  1.409277e+05   290000.0   635000.0   \n",
              "Honda           73.0  7.989726e+05  2.665091e+05   316000.0   581000.0   \n",
              "Hyundai        305.0  6.918918e+05  2.791597e+05   248000.0   485000.0   \n",
              "Jeep             4.0  1.499500e+06  1.525134e+05  1290000.0  1447500.0   \n",
              "Kia              8.0  1.614750e+06  1.190567e+05  1369000.0  1579000.0   \n",
              "MG Motors       35.0  1.869457e+06  1.216611e+05  1589000.0  1786500.0   \n",
              "Mahindra        18.0  1.100167e+06  1.755493e+05   796000.0  1037000.0   \n",
              "Maruti Suzuki  293.0  5.887850e+05  2.160199e+05   237000.0   411000.0   \n",
              "Nissan           4.0  8.842500e+05  2.895599e+05   475000.0   782500.0   \n",
              "Renault         68.0  6.625735e+05  2.148273e+05   287000.0   475000.0   \n",
              "Skoda            5.0  1.136000e+06  1.070175e+06   436000.0   466000.0   \n",
              "Tata            23.0  1.055217e+06  5.578305e+05   188000.0   779500.0   \n",
              "Toyota          50.0  8.003400e+05  2.466900e+05   368000.0   526250.0   \n",
              "Volkswagen      29.0  6.058276e+05  1.198312e+05   402000.0   542000.0   \n",
              "\n",
              "                     50%        75%        max  \n",
              "Make                                            \n",
              "Chevrolet       345500.0   537500.0   892000.0  \n",
              "Datsun          290000.0   295000.0   300000.0  \n",
              "Ford            707500.0   787000.0  1066000.0  \n",
              "Honda           785000.0   915000.0  1537000.0  \n",
              "Hyundai         638000.0   837000.0  1742000.0  \n",
              "Jeep           1529500.0  1581500.0  1649000.0  \n",
              "Kia            1628500.0  1705750.0  1741000.0  \n",
              "MG Motors      1848000.0  1978000.0  2019000.0  \n",
              "Mahindra       1094500.0  1157000.0  1465000.0  \n",
              "Maruti Suzuki   527000.0   764000.0  1163000.0  \n",
              "Nissan          978000.0  1079750.0  1106000.0  \n",
              "Renault         644000.0   801000.0  1164000.0  \n",
              "Skoda           538000.0  1299000.0  2941000.0  \n",
              "Tata            869000.0  1552000.0  2100000.0  \n",
              "Toyota          894000.0  1023000.0  1092000.0  \n",
              "Volkswagen      607000.0   699000.0   790000.0  "
            ],
            "text/html": [
              "\n",
              "  <div id=\"df-90e251dc-0d96-46ad-b95d-937803b48f9e\" class=\"colab-df-container\">\n",
              "    <div>\n",
              "<style scoped>\n",
              "    .dataframe tbody tr th:only-of-type {\n",
              "        vertical-align: middle;\n",
              "    }\n",
              "\n",
              "    .dataframe tbody tr th {\n",
              "        vertical-align: top;\n",
              "    }\n",
              "\n",
              "    .dataframe thead th {\n",
              "        text-align: right;\n",
              "    }\n",
              "</style>\n",
              "<table border=\"1\" class=\"dataframe\">\n",
              "  <thead>\n",
              "    <tr style=\"text-align: right;\">\n",
              "      <th></th>\n",
              "      <th>count</th>\n",
              "      <th>mean</th>\n",
              "      <th>std</th>\n",
              "      <th>min</th>\n",
              "      <th>25%</th>\n",
              "      <th>50%</th>\n",
              "      <th>75%</th>\n",
              "      <th>max</th>\n",
              "    </tr>\n",
              "    <tr>\n",
              "      <th>Make</th>\n",
              "      <th></th>\n",
              "      <th></th>\n",
              "      <th></th>\n",
              "      <th></th>\n",
              "      <th></th>\n",
              "      <th></th>\n",
              "      <th></th>\n",
              "      <th></th>\n",
              "    </tr>\n",
              "  </thead>\n",
              "  <tbody>\n",
              "    <tr>\n",
              "      <th>Chevrolet</th>\n",
              "      <td>6.0</td>\n",
              "      <td>4.535000e+05</td>\n",
              "      <td>2.466064e+05</td>\n",
              "      <td>267000.0</td>\n",
              "      <td>288500.0</td>\n",
              "      <td>345500.0</td>\n",
              "      <td>537500.0</td>\n",
              "      <td>892000.0</td>\n",
              "    </tr>\n",
              "    <tr>\n",
              "      <th>Datsun</th>\n",
              "      <td>3.0</td>\n",
              "      <td>2.896667e+05</td>\n",
              "      <td>1.050397e+04</td>\n",
              "      <td>279000.0</td>\n",
              "      <td>284500.0</td>\n",
              "      <td>290000.0</td>\n",
              "      <td>295000.0</td>\n",
              "      <td>300000.0</td>\n",
              "    </tr>\n",
              "    <tr>\n",
              "      <th>Ford</th>\n",
              "      <td>52.0</td>\n",
              "      <td>7.211731e+05</td>\n",
              "      <td>1.409277e+05</td>\n",
              "      <td>290000.0</td>\n",
              "      <td>635000.0</td>\n",
              "      <td>707500.0</td>\n",
              "      <td>787000.0</td>\n",
              "      <td>1066000.0</td>\n",
              "    </tr>\n",
              "    <tr>\n",
              "      <th>Honda</th>\n",
              "      <td>73.0</td>\n",
              "      <td>7.989726e+05</td>\n",
              "      <td>2.665091e+05</td>\n",
              "      <td>316000.0</td>\n",
              "      <td>581000.0</td>\n",
              "      <td>785000.0</td>\n",
              "      <td>915000.0</td>\n",
              "      <td>1537000.0</td>\n",
              "    </tr>\n",
              "    <tr>\n",
              "      <th>Hyundai</th>\n",
              "      <td>305.0</td>\n",
              "      <td>6.918918e+05</td>\n",
              "      <td>2.791597e+05</td>\n",
              "      <td>248000.0</td>\n",
              "      <td>485000.0</td>\n",
              "      <td>638000.0</td>\n",
              "      <td>837000.0</td>\n",
              "      <td>1742000.0</td>\n",
              "    </tr>\n",
              "    <tr>\n",
              "      <th>Jeep</th>\n",
              "      <td>4.0</td>\n",
              "      <td>1.499500e+06</td>\n",
              "      <td>1.525134e+05</td>\n",
              "      <td>1290000.0</td>\n",
              "      <td>1447500.0</td>\n",
              "      <td>1529500.0</td>\n",
              "      <td>1581500.0</td>\n",
              "      <td>1649000.0</td>\n",
              "    </tr>\n",
              "    <tr>\n",
              "      <th>Kia</th>\n",
              "      <td>8.0</td>\n",
              "      <td>1.614750e+06</td>\n",
              "      <td>1.190567e+05</td>\n",
              "      <td>1369000.0</td>\n",
              "      <td>1579000.0</td>\n",
              "      <td>1628500.0</td>\n",
              "      <td>1705750.0</td>\n",
              "      <td>1741000.0</td>\n",
              "    </tr>\n",
              "    <tr>\n",
              "      <th>MG Motors</th>\n",
              "      <td>35.0</td>\n",
              "      <td>1.869457e+06</td>\n",
              "      <td>1.216611e+05</td>\n",
              "      <td>1589000.0</td>\n",
              "      <td>1786500.0</td>\n",
              "      <td>1848000.0</td>\n",
              "      <td>1978000.0</td>\n",
              "      <td>2019000.0</td>\n",
              "    </tr>\n",
              "    <tr>\n",
              "      <th>Mahindra</th>\n",
              "      <td>18.0</td>\n",
              "      <td>1.100167e+06</td>\n",
              "      <td>1.755493e+05</td>\n",
              "      <td>796000.0</td>\n",
              "      <td>1037000.0</td>\n",
              "      <td>1094500.0</td>\n",
              "      <td>1157000.0</td>\n",
              "      <td>1465000.0</td>\n",
              "    </tr>\n",
              "    <tr>\n",
              "      <th>Maruti Suzuki</th>\n",
              "      <td>293.0</td>\n",
              "      <td>5.887850e+05</td>\n",
              "      <td>2.160199e+05</td>\n",
              "      <td>237000.0</td>\n",
              "      <td>411000.0</td>\n",
              "      <td>527000.0</td>\n",
              "      <td>764000.0</td>\n",
              "      <td>1163000.0</td>\n",
              "    </tr>\n",
              "    <tr>\n",
              "      <th>Nissan</th>\n",
              "      <td>4.0</td>\n",
              "      <td>8.842500e+05</td>\n",
              "      <td>2.895599e+05</td>\n",
              "      <td>475000.0</td>\n",
              "      <td>782500.0</td>\n",
              "      <td>978000.0</td>\n",
              "      <td>1079750.0</td>\n",
              "      <td>1106000.0</td>\n",
              "    </tr>\n",
              "    <tr>\n",
              "      <th>Renault</th>\n",
              "      <td>68.0</td>\n",
              "      <td>6.625735e+05</td>\n",
              "      <td>2.148273e+05</td>\n",
              "      <td>287000.0</td>\n",
              "      <td>475000.0</td>\n",
              "      <td>644000.0</td>\n",
              "      <td>801000.0</td>\n",
              "      <td>1164000.0</td>\n",
              "    </tr>\n",
              "    <tr>\n",
              "      <th>Skoda</th>\n",
              "      <td>5.0</td>\n",
              "      <td>1.136000e+06</td>\n",
              "      <td>1.070175e+06</td>\n",
              "      <td>436000.0</td>\n",
              "      <td>466000.0</td>\n",
              "      <td>538000.0</td>\n",
              "      <td>1299000.0</td>\n",
              "      <td>2941000.0</td>\n",
              "    </tr>\n",
              "    <tr>\n",
              "      <th>Tata</th>\n",
              "      <td>23.0</td>\n",
              "      <td>1.055217e+06</td>\n",
              "      <td>5.578305e+05</td>\n",
              "      <td>188000.0</td>\n",
              "      <td>779500.0</td>\n",
              "      <td>869000.0</td>\n",
              "      <td>1552000.0</td>\n",
              "      <td>2100000.0</td>\n",
              "    </tr>\n",
              "    <tr>\n",
              "      <th>Toyota</th>\n",
              "      <td>50.0</td>\n",
              "      <td>8.003400e+05</td>\n",
              "      <td>2.466900e+05</td>\n",
              "      <td>368000.0</td>\n",
              "      <td>526250.0</td>\n",
              "      <td>894000.0</td>\n",
              "      <td>1023000.0</td>\n",
              "      <td>1092000.0</td>\n",
              "    </tr>\n",
              "    <tr>\n",
              "      <th>Volkswagen</th>\n",
              "      <td>29.0</td>\n",
              "      <td>6.058276e+05</td>\n",
              "      <td>1.198312e+05</td>\n",
              "      <td>402000.0</td>\n",
              "      <td>542000.0</td>\n",
              "      <td>607000.0</td>\n",
              "      <td>699000.0</td>\n",
              "      <td>790000.0</td>\n",
              "    </tr>\n",
              "  </tbody>\n",
              "</table>\n",
              "</div>\n",
              "    <div class=\"colab-df-buttons\">\n",
              "\n",
              "  <div class=\"colab-df-container\">\n",
              "    <button class=\"colab-df-convert\" onclick=\"convertToInteractive('df-90e251dc-0d96-46ad-b95d-937803b48f9e')\"\n",
              "            title=\"Convert this dataframe to an interactive table.\"\n",
              "            style=\"display:none;\">\n",
              "\n",
              "  <svg xmlns=\"http://www.w3.org/2000/svg\" height=\"24px\" viewBox=\"0 -960 960 960\">\n",
              "    <path d=\"M120-120v-720h720v720H120Zm60-500h600v-160H180v160Zm220 220h160v-160H400v160Zm0 220h160v-160H400v160ZM180-400h160v-160H180v160Zm440 0h160v-160H620v160ZM180-180h160v-160H180v160Zm440 0h160v-160H620v160Z\"/>\n",
              "  </svg>\n",
              "    </button>\n",
              "\n",
              "  <style>\n",
              "    .colab-df-container {\n",
              "      display:flex;\n",
              "      gap: 12px;\n",
              "    }\n",
              "\n",
              "    .colab-df-convert {\n",
              "      background-color: #E8F0FE;\n",
              "      border: none;\n",
              "      border-radius: 50%;\n",
              "      cursor: pointer;\n",
              "      display: none;\n",
              "      fill: #1967D2;\n",
              "      height: 32px;\n",
              "      padding: 0 0 0 0;\n",
              "      width: 32px;\n",
              "    }\n",
              "\n",
              "    .colab-df-convert:hover {\n",
              "      background-color: #E2EBFA;\n",
              "      box-shadow: 0px 1px 2px rgba(60, 64, 67, 0.3), 0px 1px 3px 1px rgba(60, 64, 67, 0.15);\n",
              "      fill: #174EA6;\n",
              "    }\n",
              "\n",
              "    .colab-df-buttons div {\n",
              "      margin-bottom: 4px;\n",
              "    }\n",
              "\n",
              "    [theme=dark] .colab-df-convert {\n",
              "      background-color: #3B4455;\n",
              "      fill: #D2E3FC;\n",
              "    }\n",
              "\n",
              "    [theme=dark] .colab-df-convert:hover {\n",
              "      background-color: #434B5C;\n",
              "      box-shadow: 0px 1px 3px 1px rgba(0, 0, 0, 0.15);\n",
              "      filter: drop-shadow(0px 1px 2px rgba(0, 0, 0, 0.3));\n",
              "      fill: #FFFFFF;\n",
              "    }\n",
              "  </style>\n",
              "\n",
              "    <script>\n",
              "      const buttonEl =\n",
              "        document.querySelector('#df-90e251dc-0d96-46ad-b95d-937803b48f9e button.colab-df-convert');\n",
              "      buttonEl.style.display =\n",
              "        google.colab.kernel.accessAllowed ? 'block' : 'none';\n",
              "\n",
              "      async function convertToInteractive(key) {\n",
              "        const element = document.querySelector('#df-90e251dc-0d96-46ad-b95d-937803b48f9e');\n",
              "        const dataTable =\n",
              "          await google.colab.kernel.invokeFunction('convertToInteractive',\n",
              "                                                    [key], {});\n",
              "        if (!dataTable) return;\n",
              "\n",
              "        const docLinkHtml = 'Like what you see? Visit the ' +\n",
              "          '<a target=\"_blank\" href=https://colab.research.google.com/notebooks/data_table.ipynb>data table notebook</a>'\n",
              "          + ' to learn more about interactive tables.';\n",
              "        element.innerHTML = '';\n",
              "        dataTable['output_type'] = 'display_data';\n",
              "        await google.colab.output.renderOutput(dataTable, element);\n",
              "        const docLink = document.createElement('div');\n",
              "        docLink.innerHTML = docLinkHtml;\n",
              "        element.appendChild(docLink);\n",
              "      }\n",
              "    </script>\n",
              "  </div>\n",
              "\n",
              "\n",
              "<div id=\"df-a5a92fab-ba1d-4a3a-99b5-2c6d2199dd57\">\n",
              "  <button class=\"colab-df-quickchart\" onclick=\"quickchart('df-a5a92fab-ba1d-4a3a-99b5-2c6d2199dd57')\"\n",
              "            title=\"Suggest charts\"\n",
              "            style=\"display:none;\">\n",
              "\n",
              "<svg xmlns=\"http://www.w3.org/2000/svg\" height=\"24px\"viewBox=\"0 0 24 24\"\n",
              "     width=\"24px\">\n",
              "    <g>\n",
              "        <path d=\"M19 3H5c-1.1 0-2 .9-2 2v14c0 1.1.9 2 2 2h14c1.1 0 2-.9 2-2V5c0-1.1-.9-2-2-2zM9 17H7v-7h2v7zm4 0h-2V7h2v10zm4 0h-2v-4h2v4z\"/>\n",
              "    </g>\n",
              "</svg>\n",
              "  </button>\n",
              "\n",
              "<style>\n",
              "  .colab-df-quickchart {\n",
              "      --bg-color: #E8F0FE;\n",
              "      --fill-color: #1967D2;\n",
              "      --hover-bg-color: #E2EBFA;\n",
              "      --hover-fill-color: #174EA6;\n",
              "      --disabled-fill-color: #AAA;\n",
              "      --disabled-bg-color: #DDD;\n",
              "  }\n",
              "\n",
              "  [theme=dark] .colab-df-quickchart {\n",
              "      --bg-color: #3B4455;\n",
              "      --fill-color: #D2E3FC;\n",
              "      --hover-bg-color: #434B5C;\n",
              "      --hover-fill-color: #FFFFFF;\n",
              "      --disabled-bg-color: #3B4455;\n",
              "      --disabled-fill-color: #666;\n",
              "  }\n",
              "\n",
              "  .colab-df-quickchart {\n",
              "    background-color: var(--bg-color);\n",
              "    border: none;\n",
              "    border-radius: 50%;\n",
              "    cursor: pointer;\n",
              "    display: none;\n",
              "    fill: var(--fill-color);\n",
              "    height: 32px;\n",
              "    padding: 0;\n",
              "    width: 32px;\n",
              "  }\n",
              "\n",
              "  .colab-df-quickchart:hover {\n",
              "    background-color: var(--hover-bg-color);\n",
              "    box-shadow: 0 1px 2px rgba(60, 64, 67, 0.3), 0 1px 3px 1px rgba(60, 64, 67, 0.15);\n",
              "    fill: var(--button-hover-fill-color);\n",
              "  }\n",
              "\n",
              "  .colab-df-quickchart-complete:disabled,\n",
              "  .colab-df-quickchart-complete:disabled:hover {\n",
              "    background-color: var(--disabled-bg-color);\n",
              "    fill: var(--disabled-fill-color);\n",
              "    box-shadow: none;\n",
              "  }\n",
              "\n",
              "  .colab-df-spinner {\n",
              "    border: 2px solid var(--fill-color);\n",
              "    border-color: transparent;\n",
              "    border-bottom-color: var(--fill-color);\n",
              "    animation:\n",
              "      spin 1s steps(1) infinite;\n",
              "  }\n",
              "\n",
              "  @keyframes spin {\n",
              "    0% {\n",
              "      border-color: transparent;\n",
              "      border-bottom-color: var(--fill-color);\n",
              "      border-left-color: var(--fill-color);\n",
              "    }\n",
              "    20% {\n",
              "      border-color: transparent;\n",
              "      border-left-color: var(--fill-color);\n",
              "      border-top-color: var(--fill-color);\n",
              "    }\n",
              "    30% {\n",
              "      border-color: transparent;\n",
              "      border-left-color: var(--fill-color);\n",
              "      border-top-color: var(--fill-color);\n",
              "      border-right-color: var(--fill-color);\n",
              "    }\n",
              "    40% {\n",
              "      border-color: transparent;\n",
              "      border-right-color: var(--fill-color);\n",
              "      border-top-color: var(--fill-color);\n",
              "    }\n",
              "    60% {\n",
              "      border-color: transparent;\n",
              "      border-right-color: var(--fill-color);\n",
              "    }\n",
              "    80% {\n",
              "      border-color: transparent;\n",
              "      border-right-color: var(--fill-color);\n",
              "      border-bottom-color: var(--fill-color);\n",
              "    }\n",
              "    90% {\n",
              "      border-color: transparent;\n",
              "      border-bottom-color: var(--fill-color);\n",
              "    }\n",
              "  }\n",
              "</style>\n",
              "\n",
              "  <script>\n",
              "    async function quickchart(key) {\n",
              "      const quickchartButtonEl =\n",
              "        document.querySelector('#' + key + ' button');\n",
              "      quickchartButtonEl.disabled = true;  // To prevent multiple clicks.\n",
              "      quickchartButtonEl.classList.add('colab-df-spinner');\n",
              "      try {\n",
              "        const charts = await google.colab.kernel.invokeFunction(\n",
              "            'suggestCharts', [key], {});\n",
              "      } catch (error) {\n",
              "        console.error('Error during call to suggestCharts:', error);\n",
              "      }\n",
              "      quickchartButtonEl.classList.remove('colab-df-spinner');\n",
              "      quickchartButtonEl.classList.add('colab-df-quickchart-complete');\n",
              "    }\n",
              "    (() => {\n",
              "      let quickchartButtonEl =\n",
              "        document.querySelector('#df-a5a92fab-ba1d-4a3a-99b5-2c6d2199dd57 button');\n",
              "      quickchartButtonEl.style.display =\n",
              "        google.colab.kernel.accessAllowed ? 'block' : 'none';\n",
              "    })();\n",
              "  </script>\n",
              "</div>\n",
              "    </div>\n",
              "  </div>\n"
            ]
          },
          "metadata": {},
          "execution_count": 86
        }
      ]
    },
    {
      "cell_type": "code",
      "source": [
        "df.groupby(['Make'])['Price'].plot.kde(legend=True)"
      ],
      "metadata": {
        "id": "s8Ni1FIRFDTh",
        "outputId": "516a0139-498a-4d9b-f908-071493fb2568",
        "colab": {
          "base_uri": "https://localhost:8080/",
          "height": 775
        }
      },
      "id": "s8Ni1FIRFDTh",
      "execution_count": 87,
      "outputs": [
        {
          "output_type": "execute_result",
          "data": {
            "text/plain": [
              "Make\n",
              "Chevrolet        Axes(0.125,0.11;0.775x0.77)\n",
              "Datsun           Axes(0.125,0.11;0.775x0.77)\n",
              "Ford             Axes(0.125,0.11;0.775x0.77)\n",
              "Honda            Axes(0.125,0.11;0.775x0.77)\n",
              "Hyundai          Axes(0.125,0.11;0.775x0.77)\n",
              "Jeep             Axes(0.125,0.11;0.775x0.77)\n",
              "Kia              Axes(0.125,0.11;0.775x0.77)\n",
              "MG Motors        Axes(0.125,0.11;0.775x0.77)\n",
              "Mahindra         Axes(0.125,0.11;0.775x0.77)\n",
              "Maruti Suzuki    Axes(0.125,0.11;0.775x0.77)\n",
              "Nissan           Axes(0.125,0.11;0.775x0.77)\n",
              "Renault          Axes(0.125,0.11;0.775x0.77)\n",
              "Skoda            Axes(0.125,0.11;0.775x0.77)\n",
              "Tata             Axes(0.125,0.11;0.775x0.77)\n",
              "Toyota           Axes(0.125,0.11;0.775x0.77)\n",
              "Volkswagen       Axes(0.125,0.11;0.775x0.77)\n",
              "Name: Price, dtype: object"
            ]
          },
          "metadata": {},
          "execution_count": 87
        },
        {
          "output_type": "display_data",
          "data": {
            "text/plain": [
              "<Figure size 640x480 with 1 Axes>"
            ],
            "image/png": "[encoded data removed]"
          },
          "metadata": {}
        }
      ]
    },
    {
      "cell_type": "markdown",
      "source": [
        "On average, MG Motors, Kia, and Jeep are the three most expensive makes."
      ],
      "metadata": {
        "id": "c3G-l075RBS_"
      },
      "id": "c3G-l075RBS_"
    },
    {
      "cell_type": "code",
      "source": [
        "# 1.3\n",
        "from sklearn.model_selection import train_test_split\n",
        "training_data, testing_data = train_test_split(df,test_size=.2,random_state=10)"
      ],
      "metadata": {
        "id": "kMQo2duFlVkM"
      },
      "id": "kMQo2duFlVkM",
      "execution_count": 88,
      "outputs": []
    },
    {
      "cell_type": "code",
      "source": [
        "# 1.4\n",
        "numerical_train = training_data.select_dtypes(include='number')\n",
        "num_train_x = numerical_train.drop('Price', axis=1)\n",
        "num_train_y = numerical_train['Price']\n",
        "\n",
        "numerical_test = testing_data.select_dtypes(include='number')\n",
        "num_test_x = numerical_test.drop('Price', axis=1)\n",
        "num_test_y = numerical_test['Price']"
      ],
      "metadata": {
        "id": "I9-z1e-OppEk"
      },
      "id": "I9-z1e-OppEk",
      "execution_count": 89,
      "outputs": []
    },
    {
      "cell_type": "code",
      "source": [
        "import numpy as np\n",
        "from sklearn.linear_model import LinearRegression\n",
        "from sklearn.metrics import mean_squared_error, r2_score\n",
        "\n",
        "model = LinearRegression()\n",
        "\n",
        "model.fit(num_train_x, num_train_y)\n",
        "y_pred = model.predict(num_test_x)\n",
        "\n",
        "mse = mean_squared_error(num_test_y, y_pred)\n",
        "rmse = np.sqrt(mse)\n",
        "r_squared = r2_score(num_test_y, y_pred)\n",
        "\n",
        "print(\"RMSE: \" + str(rmse))\n",
        "print(\"R^2: \" + str(r_squared))"
      ],
      "metadata": {
        "colab": {
          "base_uri": "https://localhost:8080/"
        },
        "id": "Q4GNa1t2qoxN",
        "outputId": "07520536-658a-45cf-a1a5-9673218cfe3f"
      },
      "id": "Q4GNa1t2qoxN",
      "execution_count": 90,
      "outputs": [
        {
          "output_type": "stream",
          "name": "stdout",
          "text": [
            "RMSE: 268908.2932930864\n",
            "R^2: 0.3628384799971667\n"
          ]
        }
      ]
    },
    {
      "cell_type": "code",
      "source": [
        "categorical_train = training_data.select_dtypes(include='object')\n",
        "cat_train_x = pd.get_dummies(categorical_train)\n",
        "cols = cat_train_x.columns.tolist()\n",
        "cat_train_y = training_data['Price']\n",
        "\n",
        "categorical_test = testing_data.select_dtypes(include='object')\n",
        "cat_test_x = pd.get_dummies(categorical_test)\n",
        "cat_test_x = cat_test_x.reindex(columns=cols).fillna(0)\n",
        "cat_test_y = testing_data['Price']"
      ],
      "metadata": {
        "id": "4cfOSrvex53b"
      },
      "id": "4cfOSrvex53b",
      "execution_count": 91,
      "outputs": []
    },
    {
      "cell_type": "code",
      "source": [
        "model = LinearRegression()\n",
        "\n",
        "model.fit(cat_train_x, cat_train_y)\n",
        "y_pred = model.predict(cat_test_x)\n",
        "\n",
        "mse = mean_squared_error(cat_test_y, y_pred)\n",
        "rmse = np.sqrt(mse)\n",
        "r_squared = r2_score(cat_test_y, y_pred)\n",
        "\n",
        "print(\"RMSE: \" + str(rmse))\n",
        "print(\"R^2: \" + str(r_squared))"
      ],
      "metadata": {
        "colab": {
          "base_uri": "https://localhost:8080/"
        },
        "id": "tz3EVmJv0VWM",
        "outputId": "bbc4ab3d-e1b7-40e2-f943-dce24fbec961"
      },
      "id": "tz3EVmJv0VWM",
      "execution_count": 92,
      "outputs": [
        {
          "output_type": "stream",
          "name": "stdout",
          "text": [
            "RMSE: 189369.66918313663\n",
            "R^2: 0.6840182587723642\n"
          ]
        }
      ]
    },
    {
      "cell_type": "markdown",
      "source": [
        "In this case, the model using the categorical variables had a larger R^2 value than the one using numerical variables; therefore, the categorical model performs better."
      ],
      "metadata": {
        "id": "yTjomJXI_QGJ"
      },
      "id": "yTjomJXI_QGJ"
    },
    {
      "cell_type": "code",
      "source": [
        "train_x = num_train_x.join(cat_train_x)\n",
        "test_x = num_test_x.join(cat_test_x)"
      ],
      "metadata": {
        "id": "j2t8k_8lVOC3"
      },
      "id": "j2t8k_8lVOC3",
      "execution_count": 93,
      "outputs": []
    },
    {
      "cell_type": "code",
      "source": [
        "model = LinearRegression()\n",
        "\n",
        "model.fit(train_x, cat_train_y)\n",
        "y_pred = model.predict(test_x)\n",
        "\n",
        "mse = mean_squared_error(cat_test_y, y_pred)\n",
        "rmse = np.sqrt(mse)\n",
        "r_squared = r2_score(cat_test_y, y_pred)\n",
        "\n",
        "print(\"RMSE: \" + str(rmse))\n",
        "print(\"R^2: \" + str(r_squared))\n",
        "\n",
        "best_predictions = y_pred"
      ],
      "metadata": {
        "colab": {
          "base_uri": "https://localhost:8080/"
        },
        "id": "3Zy8Vck0XIF6",
        "outputId": "a41556f2-15c3-4fbd-a870-eddf3c8dc882"
      },
      "id": "3Zy8Vck0XIF6",
      "execution_count": 94,
      "outputs": [
        {
          "output_type": "stream",
          "name": "stdout",
          "text": [
            "RMSE: 138860.13114398727\n",
            "R^2: 0.8300988614705912\n"
          ]
        }
      ]
    },
    {
      "cell_type": "markdown",
      "source": [
        "The model with the combined data performed the best with an increase in R^2 from the categorical model of .15."
      ],
      "metadata": {
        "id": "Yv3h9NUMXTfx"
      },
      "id": "Yv3h9NUMXTfx"
    },
    {
      "cell_type": "code",
      "source": [
        "# 1.5\n",
        "from sklearn.preprocessing import PolynomialFeatures\n",
        "\n",
        "poly = PolynomialFeatures(degree=2)\n",
        "\n",
        "x_poly = poly.fit_transform(train_x)\n",
        "poly_train = pd.DataFrame(x_poly, columns=[f'poly_{i}' for i in range(x_poly.shape[1])])\n",
        "poly2_train_x = train_x.join(poly_train)\n",
        "\n",
        "x_poly = poly.fit_transform(test_x)\n",
        "poly_test = pd.DataFrame(x_poly, columns=[f'poly_{i}' for i in range(x_poly.shape[1])])\n",
        "poly2_test_x = test_x.join(poly_test)\n",
        "\n",
        "poly2_train_x = poly2_train_x.fillna(0)\n",
        "poly2_test_x = poly2_test_x.fillna(0)"
      ],
      "metadata": {
        "id": "3OJSZM9wDt0w"
      },
      "id": "3OJSZM9wDt0w",
      "execution_count": 95,
      "outputs": []
    },
    {
      "cell_type": "code",
      "source": [
        "model = LinearRegression()\n",
        "\n",
        "model.fit(poly2_train_x, cat_train_y)\n",
        "y_pred = model.predict(poly2_test_x)\n",
        "\n",
        "mse = mean_squared_error(cat_test_y, y_pred)\n",
        "rmse = np.sqrt(mse)\n",
        "r_squared = r2_score(cat_test_y, y_pred)\n",
        "\n",
        "print(\"RMSE: \" + str(rmse))\n",
        "print(\"R^2: \" + str(r_squared))"
      ],
      "metadata": {
        "colab": {
          "base_uri": "https://localhost:8080/"
        },
        "id": "B7OXJ2IBIr0j",
        "outputId": "89a64940-37d3-4684-a253-3c675762d116"
      },
      "id": "B7OXJ2IBIr0j",
      "execution_count": 96,
      "outputs": [
        {
          "output_type": "stream",
          "name": "stdout",
          "text": [
            "RMSE: 10624019.87863691\n",
            "R^2: -993.5323085275504\n"
          ]
        }
      ]
    },
    {
      "cell_type": "code",
      "source": [
        "# 1.6\n",
        "import matplotlib.pyplot as plt\n",
        "\n",
        "plt.scatter(best_predictions, cat_test_y)"
      ],
      "metadata": {
        "colab": {
          "base_uri": "https://localhost:8080/",
          "height": 480
        },
        "id": "LErLmCe_NDt8",
        "outputId": "4a48d3b9-3fd1-4df7-e756-5f0c527087f8"
      },
      "id": "LErLmCe_NDt8",
      "execution_count": 98,
      "outputs": [
        {
          "output_type": "execute_result",
          "data": {
            "text/plain": [
              "<matplotlib.collections.PathCollection at 0x7fcf99fa85b0>"
            ]
          },
          "metadata": {},
          "execution_count": 98
        },
        {
          "output_type": "display_data",
          "data": {
            "text/plain": [
              "<Figure size 640x480 with 1 Axes>"
            ],
            "image/png": "[encoded data removed]"
          },
          "metadata": {}
        }
      ]
    },
    {
      "cell_type": "code",
      "source": [
        "import seaborn as sns\n",
        "\n",
        "residuals = cat_test_y - best_predictions\n",
        "sns.kdeplot(residuals, fill=True)"
      ],
      "metadata": {
        "colab": {
          "base_uri": "https://localhost:8080/",
          "height": 482
        },
        "id": "C2Zm69nxOckD",
        "outputId": "d3644afd-ebff-4642-8c06-4c7f8254231d"
      },
      "id": "C2Zm69nxOckD",
      "execution_count": 100,
      "outputs": [
        {
          "output_type": "execute_result",
          "data": {
            "text/plain": [
              "<Axes: xlabel='Price', ylabel='Density'>"
            ]
          },
          "metadata": {},
          "execution_count": 100
        },
        {
          "output_type": "display_data",
          "data": {
            "text/plain": [
              "<Figure size 640x480 with 1 Axes>"
            ],
            "image/png": "[encoded data removed]"
          },
          "metadata": {}
        }
      ]
    },
    {
      "cell_type": "code",
      "source": [
        "# 1.7\n",
        "from sklearn.tree import DecisionTreeRegressor\n",
        "\n",
        "model = DecisionTreeRegressor(max_depth = 11)\n",
        "\n",
        "model.fit(train_x, cat_train_y)\n",
        "y_pred = model.predict(test_x)\n",
        "\n",
        "mse = mean_squared_error(cat_test_y, y_pred)\n",
        "rmse = np.sqrt(mse)\n",
        "r_squared = r2_score(cat_test_y, y_pred)\n",
        "\n",
        "print(\"RMSE: \" + str(rmse))\n",
        "print(\"R^2: \" + str(r_squared))"
      ],
      "metadata": {
        "id": "O-NjlauKP3Hm",
        "outputId": "be76594b-50a4-4433-a8b9-6a06901a3aaf",
        "colab": {
          "base_uri": "https://localhost:8080/"
        }
      },
      "id": "O-NjlauKP3Hm",
      "execution_count": 112,
      "outputs": [
        {
          "output_type": "stream",
          "name": "stdout",
          "text": [
            "RMSE: 109445.11671119103\n",
            "R^2: 0.8944559088686705\n"
          ]
        }
      ]
    },
    {
      "cell_type": "code",
      "source": [
        "# 1.8\n",
        "plt.scatter(y_pred, cat_test_y)"
      ],
      "metadata": {
        "id": "IWTmwMHYQxQB",
        "outputId": "809af8c7-5644-4002-f6c9-477b96d06ec5",
        "colab": {
          "base_uri": "https://localhost:8080/",
          "height": 480
        }
      },
      "id": "IWTmwMHYQxQB",
      "execution_count": 113,
      "outputs": [
        {
          "output_type": "execute_result",
          "data": {
            "text/plain": [
              "<matplotlib.collections.PathCollection at 0x7fcf8431d120>"
            ]
          },
          "metadata": {},
          "execution_count": 113
        },
        {
          "output_type": "display_data",
          "data": {
            "text/plain": [
              "<Figure size 640x480 with 1 Axes>"
            ],
            "image/png": "[encoded data removed]"
          },
          "metadata": {}
        }
      ]
    },
    {
      "cell_type": "code",
      "source": [
        "residuals = cat_test_y - y_pred\n",
        "sns.kdeplot(residuals, fill=True)"
      ],
      "metadata": {
        "id": "l3GhqOOMQzEJ",
        "outputId": "52773d32-e01b-4bce-f209-28cbc39612f6",
        "colab": {
          "base_uri": "https://localhost:8080/",
          "height": 482
        }
      },
      "id": "l3GhqOOMQzEJ",
      "execution_count": 114,
      "outputs": [
        {
          "output_type": "execute_result",
          "data": {
            "text/plain": [
              "<Axes: xlabel='Price', ylabel='Density'>"
            ]
          },
          "metadata": {},
          "execution_count": 114
        },
        {
          "output_type": "display_data",
          "data": {
            "text/plain": [
              "<Figure size 640x480 with 1 Axes>"
            ],
            "image/png": "[encoded data removed]"
          },
          "metadata": {}
        }
      ]
    },
    {
      "cell_type": "markdown",
      "source": [
        "1.9\n",
        "\n",
        "In my case, my decision tree with a max depth of 11 had slightly better performance than my linear model."
      ],
      "metadata": {
        "id": "KrckO8YQQ7oe"
      },
      "id": "KrckO8YQQ7oe"
    },
    {
      "cell_type": "markdown",
      "id": "25bf83c6-ff44-42d6-9b33-8be1b945860d",
      "metadata": {
        "id": "25bf83c6-ff44-42d6-9b33-8be1b945860d"
      },
      "source": [
        "**Q2.** The is a question about regression using decision trees and linear models. The data include wages at data science-y jobs, including\n",
        "\n",
        "  - `Rating`: Company worker happiness score\n",
        "  - `Size`: Number of employees\n",
        "  - `Sector`: Part of the economy\n",
        "  - `avg_salary`: Average wage\n",
        "  - `job_state`: Location of work\n",
        "\n",
        "  1. Load the `wages_hw.csv` file. Split the sample into an ~80% training set and a ~20% test set. Do any necessary cleaning, including outliers and missings.\n",
        "  2. Use a linear model to regress `avg_salary` on `Sector`. Which sectors have the highest predicted wages? What is the $R^2$ and `RMSE` on the test set?\n",
        "  3. Make a scatterplot of `avg_salary` and `Rating`. Is there an obvious visual relationship between the two variables? Regress `avg_salary` on `Rating` as a numeric variable: Do higher ratings predict higher or lower wages? Convert `Rating` to a one-hot encoded variable, with a category for each rating. Run a regression of `avg_salary` on the categorical version. How do your results change? Explain. Which version has a higher $R^2$ and lower `RMSE`?\n",
        "  4. Now interact `Sector` with the categorical version of `Rating`, so your regressors are a (Sector, Rating) pair; this is a programming puzzle you'll have to think about, but using the `.PolynomialFeatures()` function on the one-hot encoded categorical variables is one option, and another is pre-processing a new variable that interacts `Sector` and `Rating` and then one-hot encoding the result. Regress `avg_salary` on the (Sector, Rating) pairs. How does the $R^2$ and `RMSE` on the test set compare to part 2? Interpret the coefficients; which sector-rating pairs have the highest wages?\n",
        "  5. Run a linear regression of `avg_salary` on all the variables. What is the $R^2$ on the test set? How does it compare to your simpler models in 2--4?\n",
        "  6. Build a decision tree by regressing `avg_salary` on `Sector`, `Rating`, and the (Sector, Rating) pairs. What are the $R^2$ and `RMSE` of your models on the test set? How do your answers compare to parts 2, 3, and 4?\n",
        "  7. Build a decision tree by regressing `avg_salary` on all the other variables. What is the $R^2$ and `RMSE` on the test set?\n",
        "  8. Build a linear regression or decision tree using the available variables based on your own judgment. What degrees of freedom are you giving the model to predict variation in wages across company and location attributes? What is the $R^2$ and `RMSE` of your model? How does it compare to the previous ones in the question? Why does yours perform better or worse on the test set?"
      ]
    },
    {
      "cell_type": "markdown",
      "id": "409519b9-e803-4a95-aded-d6eabf6bc526",
      "metadata": {
        "id": "409519b9-e803-4a95-aded-d6eabf6bc526"
      },
      "source": [
        "**Q3.** This a question purely on categorical prediction. The data for this happen to be gathered in 1987 in Indonesia, and concern contraceptive method choice. The questions and data-gathering assumptions reflect the culture and attitudes of that time and place, but provide a good example of a categorical prediction problem on an important topic (family planning and maternal health The variables in the data are:\n",
        "\n",
        "    - Wife's age (numerical)\n",
        "    - Wife's education (categorical) 1=low, 2, 3, 4=high\n",
        "    - Husband's education (categorical) 1=low, 2, 3, 4=high\n",
        "    - Number of children ever born (numerical)\n",
        "    - Wife's religion (binary) 0=Non-Islam, 1=Islam\n",
        "    - Wife's now working? (binary) 0=Yes, 1=No\n",
        "    - Husband's occupation (categorical) 1, 2, 3, 4\n",
        "    - Standard-of-living index (categorical) 1=low, 2, 3, 4=high\n",
        "    - Media exposure (binary) 0=Good, 1=Not good\n",
        "    - Contraceptive method used (class attribute) 1=No-use, 2=Long-term, 3=Short-termhort-term\n",
        "\n",
        "  1. Load the `contraceptiveMethodChoice.csv` data. Tabulate the `method` variable (i.e. `.value_counts()`). 1 corresponds to `No Contraception`, 3 corresponds to `Short Term` (e.g. condoms, birth control pills), and 2 corresponds to `Long Term` (e.g. IUD, sterilization). Cross tabulate `method` and `numberChildren`. Do couples that use birth control tend to have more children than those who don't?\n",
        "  2. Split the sample into ~80% training data and ~20% testing data.\n",
        "  3. We are now going to make a mistake. Train a regression tree to predict the contraceptive method using the other variables in the data, not a classification tree. Look at the terminal nodes in the tree: What values do they take? Does that make sense? Explain clearly what has gone wrong here.\n",
        "  4. Instead of regression, use a classification tree to predict contraceptive method using the other variables in the data. How does it look different from the previous tree? What variables does the algorithm use? In broad terms, which groups of people are most likely to use each method of contraception?\n",
        "  5. Compute a confusion matrix for your classification tree on the test set (Hint: There are now three categories instead of two, so the cross tabulation will be a $3 \\times 3$ matrix instead of $2 \\times 2$.). Compute the Accuracy of your model overall, and the Accuracy for predicting each contraceptive method.\n",
        "  7. Why can't you use a linear probability model to do this exercise? Explain clearly in words."
      ]
    },
    {
      "cell_type": "markdown",
      "id": "7bd15c6b-4c7c-4230-a199-e03e1054ec6a",
      "metadata": {
        "id": "7bd15c6b-4c7c-4230-a199-e03e1054ec6a"
      },
      "source": [
        "**Q4.** This is a question where we use regression and regression trees. The outcome is whether a defendant is held pre-trial in the Virginia justice system. We would like to understand how that outcome is predicted by characteristics of the defendant, particularly race. Let's be very careful/clear: We aren't saying anyone *should* be held without bond or asserting that people with different demographic variables *should* be more likely to be held, but instead trying to predict whether people with different characteristics *are empirically more likely* to be held without bond, given the available information. This is the first step we would take in investigating whether a system is fair, or how large the disparities are: Does it treat people with similar observable characteristics similarly, or not? We are going to look at a common question: Are Black defendants treated differently from white or Asian ones? (There are Native American defendants, but there are 11 in total, which is such a small number of observations that is difficult to clearly say anything about how this group is treated relative to the others.)\n",
        "\n",
        "The variables in the data are:\n",
        "\n",
        "  - `held_wo_bail`: Whether a defendant is held without bail before trial (Boolean logical)\n",
        "  - `race`, `sex`: Categorical demographic variables\n",
        "  - `is_poor`: Whether the defendant is classified as indigent\n",
        "  - `prior_F`, `prior_M`: The number of prior felony and misdemeanor arrests\n",
        "  - `case_type`: A categorical variable indicating a misdemeanor `M` or felony `F` or infraction `I` or special case `S`\n",
        "  - `age`: Defendant's age\n",
        "  - `bond`, `bond_NA`, `bond_type`: The amount of any bond, whether it is missing, and the type\n",
        "  - `sentence`, `sentence_NA`, `sentence_type`: The length of any sentence, whether it is missing, and the type\n",
        "\n",
        "1. Load the `pretrial_data.csv` data. Notice that there are `nan`s, but the data are relatively clean. Because there are `.nan`s among variables you won't use, you'll want to narrow down your analysis to the relevant variables before dropping or imputing missing values.\n",
        "2. Create a dummy variable indicating that the defendant is Black.\n",
        "3. Regress `held` on `Black`. What is the slope coefficient Interpret the coefficient on the Black dummy variable: How much more likely is a black person to be held without bail? What is the $R^2$ of the model?\n",
        "4. Before doing this question, please think for a few minutes about how to make the process of running these regressions as efficient as possible, before jumping into writing code. Repeat part 2, for the following specifications, keeping track of the coefficient on the Black dummy variable each time:\n",
        "      - `held` on `Black` and `sex`\n",
        "      - `held` on `Black` and `sex` and `is_poor`\n",
        "      - `held` on `Black` and `sex` and `is_poor` and `prior_F`\n",
        "      - `held` on `Black` and `sex` and `is_poor` and `prior_F` and `case_type`\n",
        "What happens to the coefficient on the Black dummy variable as you include more regressors/features/controls in the regression? Explain your findings.\n",
        "5. Suppose we don't want to see just `Black` and `sex`, but `Black` interacted with `sex`: Are Black men and Black women treated systemically differently from the rest of the population? Implement this in a regression, and explain your findings.\n",
        "6. Imagine someone argued we should use these kinds of models to help a judge or magistrate make bail decisions (you could obviously go back and make this kind of model for the bond and sentence variables, then deploy it on new cases to predict what their bond and sentence values would be). What concerns would you have? Do you think society should be using data-driven and automated tools like that? Explain your concerns clearly."
      ]
    },
    {
      "cell_type": "markdown",
      "id": "d0bedb79-b3d9-4db3-9b30-b92c9b618cec",
      "metadata": {
        "id": "d0bedb79-b3d9-4db3-9b30-b92c9b618cec"
      },
      "source": [
        "**Q5.** This is a math question to review the derivation of the OLS estimator (but only if you are into that kind of thing!). We are going to do it slightly differently from what we did in class, though. We will use a linear predictor and minimize the Sum of Squared Errors, just as in class. But, we are going to de-mean $X$ first, creating another variable $z_i = x_i - \\bar{x}$ where\n",
        "$$\n",
        "\\bar{x} = \\dfrac{1}{N} \\sum_{i=1}^N x_i,\n",
        "$$\n",
        "so the model is $\\hat{y}_i = a + b z_i$ and the `SSE` is\n",
        "$$\n",
        "\\text{SSE}(a,b) = \\sum_{i=1}^N (y_i - a - bz_i)^2.\n",
        "$$\n",
        "\n",
        "  1. Take partial derivatives of the `SSE` with respect to $a$ and $b$. You should get\n",
        "\n",
        "\\begin{eqnarray*}\n",
        "\\sum_{i=1}^N -2(y_i - a- bz_i) &=& 0 \\\\\n",
        "\\sum_{i=1}^N -2(y_i - a - bz_i)z_i &=& 0.\n",
        "\\end{eqnarray*}\n",
        "\n",
        "  2. Solve for the solutions to the above equations. Big hint: $\\bar{z} = 0$, since we subtracted the mean of $x$ from $x$ to get $z$. You should get\n",
        "\n",
        "\\begin{eqnarray*}\n",
        "a^* &=& \\bar{y} \\\\\n",
        "b^* &=& \\dfrac{\\sum_{i=1}^N(y_i - \\bar{y})z_i}{\\sum_{i=1}^N z_i^2}.\n",
        "\\end{eqnarray*}\n",
        "\n",
        "  3. Substitute $z_i = x_i - \\bar{x}$ back into the above equations. You should get\n",
        "  \n",
        "\\begin{eqnarray*}\n",
        "a^* &=& \\bar{y} \\\\\n",
        "b^* &=& \\dfrac{\\sum_{i=1}^N(y_i - \\bar{y})(x_i-\\bar{x})}{\\sum_{i=1}^N (x_i-\\bar{x})^2},\n",
        "\\end{eqnarray*}\n",
        "\n",
        "which can be written in terms of sample covariance and sample variance as:\n",
        "\n",
        "\\begin{eqnarray*}\n",
        "a^* &=& \\bar{y} \\\\\n",
        "b^* &=& \\dfrac{\\text{cov}(x,y)}{\\text{var}(x)}.\n",
        "\\end{eqnarray*}\n",
        "\n",
        "This is typically the preferred way of expressing the OLS coefficients.\n",
        "\n",
        "4. When will $b^*$ be large or small, depending on the relationship between $x$ and $y$ and the amount of \"noise\"/variance in $x$? What does $a^*$ represent?\n",
        "5. Suppose you have measurement error in $x$ which artificially inflates its variance (e.g. bad data cleaning). What happens to the $b^*$ coefficient? How will affect your ability to predict? (This phenomenon is called **attenuation**.)\n",
        "6. Let's return to the question of *outliers*. With your formula for the OLS coefficients $(a^*,b^*)$, explain what happens if you significantly increase a single value of the outcome/target/response variable $y_i$ or one of the predictor/explanatory/covariate variables $x_i$. If values for some extreme observations are exerting significant influence over the regression coefficients, will the model perform well on for more average observations?"
      ]
    }
  ],
  "metadata": {
    "kernelspec": {
      "display_name": "Python 3 (ipykernel)",
      "language": "python",
      "name": "python3"
    },
    "language_info": {
      "codemirror_mode": {
        "name": "ipython",
        "version": 3
      },
      "file_extension": ".py",
      "mimetype": "text/x-python",
      "name": "python",
      "nbconvert_exporter": "python",
      "pygments_lexer": "ipython3",
      "version": "3.11.4"
    },
    "colab": {
      "provenance": []
    }
  },
  "nbformat": 4,
  "nbformat_minor": 5
}